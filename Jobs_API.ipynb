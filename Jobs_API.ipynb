{
 "cells": [
  {
   "cell_type": "markdown",
   "id": "a66c1692-9c84-41ec-a135-b417ef41344d",
   "metadata": {},
   "source": [
    "<p style=\"text-align:center\">\n",
    "    <a href=\"https://skills.network/?utm_medium=Exinfluencer&utm_source=Exinfluencer&utm_content=000026UJ&utm_term=10006555&utm_id=NA-SkillsNetwork-Channel-SkillsNetworkCoursesIBMDA0321ENSkillsNetwork928-2023-01-01\">\n",
    "    <img src=\"https://cf-courses-data.s3.us.cloud-object-storage.appdomain.cloud/assets/logos/SN_web_lightmode.png\" width=\"200\" alt=\"Skills Network Logo\"  />\n",
    "    </a>\n",
    "</p>\n"
   ]
  },
  {
   "cell_type": "markdown",
   "id": "6e786144-f1e4-45ee-b287-f2f4b87300d3",
   "metadata": {},
   "source": [
    "# **JOBS API Implementation Using FLASK**\n",
    "\n"
   ]
  },
  {
   "cell_type": "markdown",
   "id": "aae78227-6f87-4090-80ab-49edba9c3003",
   "metadata": {},
   "source": [
    "Estimated time needed: **45 to 60** minutes\n"
   ]
  },
  {
   "cell_type": "markdown",
   "id": "817156a7-4bab-46b8-9a67-55f3b0564c01",
   "metadata": {},
   "source": [
    "## Objectives\n",
    "\n",
    "You will be executing this code  so that the client application **Collecting Jobs API**  will be accessing this code executing on the server \n"
   ]
  },
  {
   "cell_type": "code",
   "execution_count": 1,
   "id": "4ac527ce-f921-44e2-b729-28ed03634a8e",
   "metadata": {},
   "outputs": [
    {
     "name": "stdout",
     "output_type": "stream",
     "text": [
      "Requirement already satisfied: flask in c:\\users\\henry\\anaconda3\\anaconda3.1\\lib\\site-packages (1.1.2)\n",
      "Requirement already satisfied: Jinja2>=2.10.1 in c:\\users\\henry\\anaconda3\\anaconda3.1\\lib\\site-packages (from flask) (2.11.3)\n",
      "Requirement already satisfied: Werkzeug>=0.15 in c:\\users\\henry\\anaconda3\\anaconda3.1\\lib\\site-packages (from flask) (2.0.3)\n",
      "Requirement already satisfied: click>=5.1 in c:\\users\\henry\\anaconda3\\anaconda3.1\\lib\\site-packages (from flask) (8.0.4)\n",
      "Requirement already satisfied: itsdangerous>=0.24 in c:\\users\\henry\\anaconda3\\anaconda3.1\\lib\\site-packages (from flask) (2.0.1)\n",
      "Requirement already satisfied: colorama in c:\\users\\henry\\anaconda3\\anaconda3.1\\lib\\site-packages (from click>=5.1->flask) (0.4.4)\n",
      "Requirement already satisfied: MarkupSafe>=0.23 in c:\\users\\henry\\anaconda3\\anaconda3.1\\lib\\site-packages (from Jinja2>=2.10.1->flask) (2.0.1)\n"
     ]
    }
   ],
   "source": [
    "!pip install flask"
   ]
  },
  {
   "cell_type": "markdown",
   "id": "0e5bba17-58e7-49a4-8040-0831e93466f5",
   "metadata": {},
   "source": [
    "## Dataset Used in this Assignment\n",
    "\n",
    "The dataset used in this lab comes from the following source: https://www.kaggle.com/promptcloud/jobs-on-naukricom under the under a **Public Domain license**.\n",
    "\n",
    "> Note: We are using a modified subset of that dataset for the lab, so to follow the lab instructions successfully please use the dataset provided with the lab, rather than the dataset from the original source.\n",
    "\n",
    "The original dataset is a csv. We have converted the csv to json as per the requirement of the lab.\n"
   ]
  },
  {
   "cell_type": "code",
   "execution_count": 2,
   "id": "a7fd7b0d",
   "metadata": {},
   "outputs": [],
   "source": [
    "import requests"
   ]
  },
  {
   "cell_type": "code",
   "execution_count": 3,
   "id": "c2eed468-b4cd-481a-a18e-1851e2fc7a4a",
   "metadata": {},
   "outputs": [],
   "source": [
    "# request to the specified URL the data and save it on a file named 'jobs.json':\n",
    "\n",
    "url = \"https://cf-courses-data.s3.us.cloud-object-storage.appdomain.cloud/IBM-DA0321EN-SkillsNetwork/labs/module%201/Accessing%20Data%20Using%20APIs/jobs.json\"\n",
    "response = requests.get(url)\n",
    "\n",
    "with open('jobs.json','wb') as f:\n",
    "    f.write(response.content)    "
   ]
  },
  {
   "cell_type": "code",
   "execution_count": null,
   "id": "21697c9d",
   "metadata": {},
   "outputs": [
    {
     "name": "stdout",
     "output_type": "stream",
     "text": [
      " * Serving Flask app \"__main__\" (lazy loading)\n",
      " * Environment: production\n",
      "\u001b[31m   WARNING: This is a development server. Do not use it in a production deployment.\u001b[0m\n",
      "\u001b[2m   Use a production WSGI server instead.\u001b[0m\n",
      " * Debug mode: off\n"
     ]
    },
    {
     "name": "stderr",
     "output_type": "stream",
     "text": [
      " * Running on http://127.0.0.1:5000/ (Press CTRL+C to quit)\n",
      "127.0.0.1 - - [29/Nov/2023 19:23:30] \"GET /data HTTP/1.1\" 200 -\n",
      "127.0.0.1 - - [29/Nov/2023 19:24:38] \"GET /data/all HTTP/1.1\" 200 -\n",
      "127.0.0.1 - - [29/Nov/2023 19:26:05] \"GET /data/all HTTP/1.1\" 200 -\n",
      "127.0.0.1 - - [29/Nov/2023 19:27:37] \"GET /data/all HTTP/1.1\" 200 -\n",
      "127.0.0.1 - - [29/Nov/2023 19:31:11] \"GET /data/all HTTP/1.1\" 200 -\n",
      "127.0.0.1 - - [29/Nov/2023 19:31:40] \"GET /data/all HTTP/1.1\" 200 -\n",
      "127.0.0.1 - - [29/Nov/2023 19:32:39] \"GET /data/all HTTP/1.1\" 200 -\n",
      "127.0.0.1 - - [29/Nov/2023 19:34:10] \"GET /data/all HTTP/1.1\" 200 -\n",
      "127.0.0.1 - - [29/Nov/2023 19:39:39] \"GET /data/all HTTP/1.1\" 200 -\n",
      "127.0.0.1 - - [29/Nov/2023 19:43:59] \"GET /data/all HTTP/1.1\" 200 -\n",
      "127.0.0.1 - - [29/Nov/2023 19:50:51] \"GET /data/all HTTP/1.1\" 200 -\n",
      "127.0.0.1 - - [29/Nov/2023 19:51:28] \"GET /data/all HTTP/1.1\" 200 -\n",
      "127.0.0.1 - - [29/Nov/2023 20:04:23] \"GET /data/all HTTP/1.1\" 200 -\n",
      "127.0.0.1 - - [29/Nov/2023 20:04:23] \"GET /data/all HTTP/1.1\" 200 -\n",
      "127.0.0.1 - - [29/Nov/2023 20:04:23] \"GET /data/all HTTP/1.1\" 200 -\n",
      "127.0.0.1 - - [29/Nov/2023 20:04:24] \"GET /data/all HTTP/1.1\" 200 -\n",
      "127.0.0.1 - - [29/Nov/2023 20:04:24] \"GET /data/all HTTP/1.1\" 200 -\n",
      "127.0.0.1 - - [29/Nov/2023 20:04:26] \"GET /data/all HTTP/1.1\" 200 -\n",
      "127.0.0.1 - - [29/Nov/2023 20:04:26] \"GET /data/all HTTP/1.1\" 200 -\n",
      "127.0.0.1 - - [29/Nov/2023 20:04:26] \"GET /data/all HTTP/1.1\" 200 -\n",
      "127.0.0.1 - - [29/Nov/2023 20:04:26] \"GET /data/all HTTP/1.1\" 200 -\n",
      "127.0.0.1 - - [29/Nov/2023 20:04:27] \"GET /data/all HTTP/1.1\" 200 -\n",
      "127.0.0.1 - - [29/Nov/2023 20:04:27] \"GET /data/all HTTP/1.1\" 200 -\n",
      "127.0.0.1 - - [29/Nov/2023 20:04:27] \"GET /data/all HTTP/1.1\" 200 -\n",
      "127.0.0.1 - - [29/Nov/2023 20:10:04] \"GET /data/all HTTP/1.1\" 200 -\n",
      "127.0.0.1 - - [29/Nov/2023 20:10:04] \"GET /data/all HTTP/1.1\" 200 -\n",
      "127.0.0.1 - - [29/Nov/2023 20:10:05] \"GET /data/all HTTP/1.1\" 200 -\n",
      "127.0.0.1 - - [29/Nov/2023 20:10:05] \"GET /data/all HTTP/1.1\" 200 -\n",
      "127.0.0.1 - - [29/Nov/2023 20:10:05] \"GET /data/all HTTP/1.1\" 200 -\n",
      "127.0.0.1 - - [29/Nov/2023 20:10:07] \"GET /data/all HTTP/1.1\" 200 -\n",
      "127.0.0.1 - - [29/Nov/2023 20:10:07] \"GET /data/all HTTP/1.1\" 200 -\n",
      "127.0.0.1 - - [29/Nov/2023 20:10:08] \"GET /data/all HTTP/1.1\" 200 -\n",
      "127.0.0.1 - - [29/Nov/2023 20:10:08] \"GET /data/all HTTP/1.1\" 200 -\n",
      "127.0.0.1 - - [29/Nov/2023 20:10:08] \"GET /data/all HTTP/1.1\" 200 -\n",
      "127.0.0.1 - - [29/Nov/2023 20:10:08] \"GET /data/all HTTP/1.1\" 200 -\n",
      "127.0.0.1 - - [29/Nov/2023 20:10:08] \"GET /data/all HTTP/1.1\" 200 -\n",
      "127.0.0.1 - - [29/Nov/2023 20:10:29] \"GET /data/all HTTP/1.1\" 200 -\n",
      "127.0.0.1 - - [29/Nov/2023 20:10:30] \"GET /data/all HTTP/1.1\" 200 -\n",
      "127.0.0.1 - - [29/Nov/2023 20:10:30] \"GET /data/all HTTP/1.1\" 200 -\n",
      "127.0.0.1 - - [29/Nov/2023 20:10:31] \"GET /data/all HTTP/1.1\" 200 -\n",
      "127.0.0.1 - - [29/Nov/2023 20:10:31] \"GET /data/all HTTP/1.1\" 200 -\n",
      "127.0.0.1 - - [29/Nov/2023 20:10:33] \"GET /data/all HTTP/1.1\" 200 -\n",
      "127.0.0.1 - - [29/Nov/2023 20:10:33] \"GET /data/all HTTP/1.1\" 200 -\n",
      "127.0.0.1 - - [29/Nov/2023 20:10:33] \"GET /data/all HTTP/1.1\" 200 -\n",
      "127.0.0.1 - - [29/Nov/2023 20:10:33] \"GET /data/all HTTP/1.1\" 200 -\n",
      "127.0.0.1 - - [29/Nov/2023 20:10:34] \"GET /data/all HTTP/1.1\" 200 -\n",
      "127.0.0.1 - - [29/Nov/2023 20:10:34] \"GET /data/all HTTP/1.1\" 200 -\n",
      "127.0.0.1 - - [29/Nov/2023 20:10:34] \"GET /data/all HTTP/1.1\" 200 -\n",
      "127.0.0.1 - - [29/Nov/2023 20:15:10] \"GET /data/all HTTP/1.1\" 200 -\n",
      "127.0.0.1 - - [29/Nov/2023 20:15:10] \"GET /data/all HTTP/1.1\" 200 -\n",
      "127.0.0.1 - - [29/Nov/2023 20:15:10] \"GET /data/all HTTP/1.1\" 200 -\n",
      "127.0.0.1 - - [29/Nov/2023 20:15:10] \"GET /data/all HTTP/1.1\" 200 -\n",
      "127.0.0.1 - - [29/Nov/2023 20:27:03] \"GET /data/all HTTP/1.1\" 200 -\n",
      "127.0.0.1 - - [29/Nov/2023 20:27:03] \"GET /data/all HTTP/1.1\" 200 -\n",
      "127.0.0.1 - - [29/Nov/2023 20:27:03] \"GET /data/all HTTP/1.1\" 200 -\n",
      "127.0.0.1 - - [29/Nov/2023 20:27:03] \"GET /data/all HTTP/1.1\" 200 -\n",
      "127.0.0.1 - - [29/Nov/2023 20:27:03] \"GET /data/all HTTP/1.1\" 200 -\n",
      "127.0.0.1 - - [29/Nov/2023 20:27:03] \"GET /data/all HTTP/1.1\" 200 -\n",
      "127.0.0.1 - - [29/Nov/2023 20:27:04] \"GET /data/all HTTP/1.1\" 200 -\n",
      "127.0.0.1 - - [29/Nov/2023 20:27:04] \"GET /data/all HTTP/1.1\" 200 -\n",
      "127.0.0.1 - - [29/Nov/2023 20:27:04] \"GET /data/all HTTP/1.1\" 200 -\n",
      "127.0.0.1 - - [29/Nov/2023 20:27:04] \"GET /data/all HTTP/1.1\" 200 -\n",
      "127.0.0.1 - - [29/Nov/2023 20:27:04] \"GET /data/all HTTP/1.1\" 200 -\n",
      "127.0.0.1 - - [29/Nov/2023 20:27:05] \"GET /data/all HTTP/1.1\" 200 -\n",
      "127.0.0.1 - - [29/Nov/2023 20:29:47] \"GET /data/all HTTP/1.1\" 200 -\n",
      "127.0.0.1 - - [29/Nov/2023 20:29:47] \"GET /data/all HTTP/1.1\" 200 -\n",
      "127.0.0.1 - - [29/Nov/2023 20:29:47] \"GET /data/all HTTP/1.1\" 200 -\n",
      "127.0.0.1 - - [29/Nov/2023 20:29:47] \"GET /data/all HTTP/1.1\" 200 -\n",
      "127.0.0.1 - - [29/Nov/2023 20:29:47] \"GET /data/all HTTP/1.1\" 200 -\n",
      "127.0.0.1 - - [29/Nov/2023 20:29:47] \"GET /data/all HTTP/1.1\" 200 -\n",
      "127.0.0.1 - - [29/Nov/2023 20:29:48] \"GET /data/all HTTP/1.1\" 200 -\n",
      "127.0.0.1 - - [29/Nov/2023 20:29:48] \"GET /data/all HTTP/1.1\" 200 -\n",
      "127.0.0.1 - - [29/Nov/2023 20:29:48] \"GET /data/all HTTP/1.1\" 200 -\n",
      "127.0.0.1 - - [29/Nov/2023 20:29:48] \"GET /data/all HTTP/1.1\" 200 -\n",
      "127.0.0.1 - - [29/Nov/2023 20:29:48] \"GET /data/all HTTP/1.1\" 200 -\n",
      "127.0.0.1 - - [29/Nov/2023 20:29:48] \"GET /data/all HTTP/1.1\" 200 -\n"
     ]
    }
   ],
   "source": [
    "import flask\n",
    "from flask import request, jsonify\n",
    "import requests\n",
    "import json\n",
    "\n",
    "def get_data(key, value, current):\n",
    "    results = list()\n",
    "    pattern_dict = {\n",
    "        'C': '(C)',\n",
    "        'C++': '(C\\+\\+)',\n",
    "        'Java': '(Java)',\n",
    "        'C#': '(C\\#)',\n",
    "        'Python': '(Python)',\n",
    "        'Scala': '(Scala)',\n",
    "        'Oracle': '(Oracle)',\n",
    "        'SQL Server': '(SQL Server)',\n",
    "        'MySQL Server': '(MySQL Server)',\n",
    "        'PostgreSQL': '(PostgreSQL)',\n",
    "        'MongoDB': '(MongoDB)',\n",
    "        'JavaScript': '(JavaScript)',\n",
    "        'Los Angeles': '(Los Angeles)',\n",
    "        'New York': '(New York)',\n",
    "        'San Francisco': '(San Francisco)',\n",
    "        'Washington DC': '(Washington DC)',\n",
    "        'Seattle': '(Seattle)',\n",
    "        'Austin': '(Austin)',\n",
    "        'Detroit': '(Detroit)',\n",
    "    }\n",
    "    for rec in current:\n",
    "        if re.search(pattern_dict[value], rec[key]) is not None:\n",
    "            results.append(rec)\n",
    "    return results\n",
    "\n",
    "app = flask.Flask(__name__)\n",
    "\n",
    "def load_data_from_url(url):\n",
    "    try:\n",
    "        response = requests.get(url)\n",
    "        response.raise_for_status()  # Raise an error for bad responses (4xx or 5xx)\n",
    "        return response.json()\n",
    "    except requests.RequestException as e:\n",
    "        print(f\"Error retrieving data from URL: {e}\")\n",
    "        return None\n",
    "\n",
    "# Specify the URL from which to retrieve the data\n",
    "data_url = \"https://cf-courses-data.s3.us.cloud-object-storage.appdomain.cloud/IBM-DA0321EN-SkillsNetwork/labs/module%201/Accessing%20Data%20Using%20APIs/jobs.json\"\n",
    "\n",
    "# Load data from the URL\n",
    "data = load_data_from_url(data_url)\n",
    "\n",
    "# If data is successfully loaded, start the Flask app\n",
    "if data:\n",
    "    @app.route('/', methods=['GET'])\n",
    "    def home():\n",
    "        return '''<h1>Welcome to Flask JOB search API</h1>'''\n",
    "\n",
    "    @app.route('/data/all', methods=['GET'])\n",
    "    def api_all():\n",
    "        return jsonify(data)\n",
    "\n",
    "    @app.route('/data', methods=['GET'])\n",
    "    def api_id():\n",
    "        res = None\n",
    "        for req in request.args:\n",
    "            if req == 'Job Title':\n",
    "                key = 'Job Title'\n",
    "            elif req == 'Job Experience Required':\n",
    "                key = 'Job Experience Required'\n",
    "            elif req == 'Key Skills':\n",
    "                key = 'Key Skills'\n",
    "            elif req == 'Role Category':\n",
    "                key = 'Role Category'\n",
    "            elif req == 'Location':\n",
    "                key = 'Location'\n",
    "            elif req == 'Functional Area':\n",
    "                key = 'Functional Area'\n",
    "            elif req == 'Industry':\n",
    "                key = 'Industry'\n",
    "            elif req == 'Role':\n",
    "                key = 'Role'\n",
    "            elif req == \"id\":\n",
    "                key = \"id\"\n",
    "            else:\n",
    "                pass\n",
    "\n",
    "            value = request.args[key]\n",
    "            if res is None:\n",
    "                res = get_data(key, value, data)\n",
    "            else:\n",
    "                res = get_data(key, value, res)\n",
    "\n",
    "        return jsonify(res)\n",
    "\n",
    "    # Run the Flask app\n",
    "    app.run()\n",
    "else:\n",
    "    print(\"Failed to load data. Flask app not started.\")"
   ]
  },
  {
   "cell_type": "markdown",
   "id": "c3599fa2-05b9-4285-9699-08dc2f14c7f2",
   "metadata": {},
   "source": [
    "## Authors\n"
   ]
  },
  {
   "cell_type": "markdown",
   "id": "b47c3a9c-437a-4067-a532-a7765443fbe7",
   "metadata": {},
   "source": [
    "Lakshmi Holla  \n"
   ]
  },
  {
   "cell_type": "markdown",
   "id": "5f42fdbf-c7b7-409f-b435-28d64d1607e3",
   "metadata": {},
   "source": [
    "### Other Contributors\n"
   ]
  },
  {
   "cell_type": "markdown",
   "id": "c323fbe6-dc6a-4dbc-9569-74c9041ea88c",
   "metadata": {},
   "source": [
    "Malika Singla  \n",
    "Ayushi Jain\n"
   ]
  },
  {
   "cell_type": "markdown",
   "id": "1ffa5fb5-70ab-4f23-aee6-09cb260c1475",
   "metadata": {},
   "source": [
    "## Changelog\n"
   ]
  },
  {
   "cell_type": "markdown",
   "id": "c9348598-d30b-4359-b163-8177b50bcb3a",
   "metadata": {},
   "source": [
    "| Date (YYYY-MM-DD) | Version | Changed By        | Change Description                 |\n",
    "| ----------------- | ------- | ----------------- | ---------------------------------- |\n",
    "| 2022-01-03        | 0.1     | Lakshmi Holla  | Created Initial Version\n"
   ]
  },
  {
   "cell_type": "markdown",
   "id": "3f233ece-5867-4880-a325-d198f567a5b0",
   "metadata": {},
   "source": [
    "Copyright © 2022 IBM Corporation. This notebook and its source code are released under the terms of the [MIT License](https://cognitiveclass.ai/mit-license?utm_medium=Exinfluencer&utm_source=Exinfluencer&utm_content=000026UJ&utm_term=10006555&utm_id=NA-SkillsNetwork-Channel-SkillsNetworkCoursesIBMDA0321ENSkillsNetwork21426264-2021-01-01&cm_mmc=Email_Newsletter-_-Developer_Ed%2BTech-_-WW_WW-_-SkillsNetwork-Courses-IBM-DA0321EN-SkillsNetwork-21426264&cm_mmca1=000026UJ&cm_mmca2=10006555&cm_mmca3=M12345678&cvosrc=email.Newsletter.M12345678&cvo_campaign=000026UJ).\n"
   ]
  }
 ],
 "metadata": {
  "kernelspec": {
   "display_name": "Python 3 (ipykernel)",
   "language": "python",
   "name": "python3"
  },
  "language_info": {
   "codemirror_mode": {
    "name": "ipython",
    "version": 3
   },
   "file_extension": ".py",
   "mimetype": "text/x-python",
   "name": "python",
   "nbconvert_exporter": "python",
   "pygments_lexer": "ipython3",
   "version": "3.9.12"
  }
 },
 "nbformat": 4,
 "nbformat_minor": 5
}
