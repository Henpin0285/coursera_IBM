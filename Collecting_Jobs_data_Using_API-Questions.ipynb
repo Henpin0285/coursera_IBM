{
 "cells": [
  {
   "cell_type": "markdown",
   "metadata": {},
   "source": [
    "<p style=\"text-align:center\">\n",
    "    <a href=\"https://skills.network/?utm_medium=Exinfluencer&utm_source=Exinfluencer&utm_content=000026UJ&utm_term=10006555&utm_id=NA-SkillsNetwork-Channel-SkillsNetworkCoursesIBMDA0321ENSkillsNetwork928-2022-01-01\" target=\"_blank\">\n",
    "    <img src=\"https://cf-courses-data.s3.us.cloud-object-storage.appdomain.cloud/assets/logos/SN_web_lightmode.png\" width=\"200\" alt=\"Skills Network Logo\"  />\n",
    "    </a>\n",
    "</p>\n"
   ]
  },
  {
   "cell_type": "markdown",
   "metadata": {},
   "source": [
    "# **Collecting Job Data Using APIs**\n"
   ]
  },
  {
   "cell_type": "markdown",
   "metadata": {},
   "source": [
    "Estimated time needed: **45 to 60** minutes\n"
   ]
  },
  {
   "cell_type": "markdown",
   "metadata": {},
   "source": [
    "## Objectives\n"
   ]
  },
  {
   "cell_type": "markdown",
   "metadata": {},
   "source": [
    "After completing this lab, you will be able to:\n"
   ]
  },
  {
   "cell_type": "markdown",
   "metadata": {},
   "source": [
    "*   Collect job data from Jobs API\n",
    "*   Store the collected data into an excel spreadsheet.\n"
   ]
  },
  {
   "cell_type": "markdown",
   "metadata": {},
   "source": [
    "><strong>Note: Before starting with the assignment make sure to read all the instructions and then move ahead with the coding part.</strong>\n"
   ]
  },
  {
   "cell_type": "markdown",
   "metadata": {},
   "source": [
    "#### Instructions\n"
   ]
  },
  {
   "cell_type": "markdown",
   "metadata": {},
   "source": [
    "To run the actual lab, firstly you need to click on the [Jobs_API](https://cf-courses-data.s3.us.cloud-object-storage.appdomain.cloud/IBM-DA0321EN-SkillsNetwork/labs/module%201/Accessing%20Data%20Using%20APIs/Jobs_API.ipynb) notebook link. The file contains flask code which is required to run the Jobs API data.\n",
    "\n",
    "Now, to run the code in the file that opens up follow the below steps.\n",
    "\n",
    "Step1: Download the file. \n",
    "\n",
    "Step2: Upload it on the IBM Watson studio. (If IBM Watson Cloud service does not work in your system, follow the alternate Step 2 below)\n",
    "\n",
    "Step2(alternate): Upload it in your SN labs environment using the upload button which is highlighted in red in the image below:\n",
    "Remember to upload this Jobs_API file in the same folder as your current .ipynb file\n",
    "\n",
    "<img src=\"https://cf-courses-data.s3.us.cloud-object-storage.appdomain.cloud/IBM-DA0321EN-SkillsNetwork/labs/module%201/Accessing%20Data%20Using%20APIs/Upload.PNG\">\n",
    "\n",
    "Step3:  Run all the cells of the Jobs_API file. (Even if you receive an asterik sign after running the last cell, the code works fine.)\n",
    "\n",
    "If you want to learn more about flask, which is optional, you can click on this link [here](https://cf-courses-data.s3.us.cloud-object-storage.appdomain.cloud/IBM-DA0321EN-SkillsNetwork/labs/module%201/Accessing%20Data%20Using%20APIs/FLASK_API.md.html).\n",
    "\n",
    "Once you run the flask code, you can start with your assignment.\n"
   ]
  },
  {
   "cell_type": "markdown",
   "metadata": {},
   "source": [
    "## Dataset Used in this Assignment\n",
    "\n",
    "The dataset used in this lab comes from the following source: https://www.kaggle.com/promptcloud/jobs-on-naukricom under the under a **Public Domain license**.\n",
    "\n",
    "> Note: We are using a modified subset of that dataset for the lab, so to follow the lab instructions successfully please use the dataset provided with the lab, rather than the dataset from the original source.\n",
    "\n",
    "The original dataset is a csv. We have converted the csv to json as per the requirement of the lab.\n"
   ]
  },
  {
   "cell_type": "markdown",
   "metadata": {},
   "source": [
    "## Warm-Up Exercise\n"
   ]
  },
  {
   "cell_type": "markdown",
   "metadata": {},
   "source": [
    "Before you attempt the actual lab, here is a fully solved warmup exercise that will help you to learn how to access an API.\n"
   ]
  },
  {
   "cell_type": "markdown",
   "metadata": {},
   "source": [
    "Using an API, let us find out who currently are on the International Space Station (ISS).<br> The API at [http://api.open-notify.org/astros.json](http://api.open-notify.org/astros.json?utm_medium=Exinfluencer&utm_source=Exinfluencer&utm_content=000026UJ&utm_term=10006555&utm_id=NA-SkillsNetwork-Channel-SkillsNetworkCoursesIBMDA0321ENSkillsNetwork21426264-2021-01-01&cm_mmc=Email_Newsletter-_-Developer_Ed%2BTech-_-WW_WW-_-SkillsNetwork-Courses-IBM-DA0321EN-SkillsNetwork-21426264&cm_mmca1=000026UJ&cm_mmca2=10006555&cm_mmca3=M12345678&cvosrc=email.Newsletter.M12345678&cvo_campaign=000026UJ) gives us the information of astronauts currently on ISS in json format.<br>\n",
    "You can read more about this API at [http://open-notify.org/Open-Notify-API/People-In-Space/](http://open-notify.org/Open-Notify-API/People-In-Space?utm_medium=Exinfluencer&utm_source=Exinfluencer&utm_content=000026UJ&utm_term=10006555&utm_id=NA-SkillsNetwork-Channel-SkillsNetworkCoursesIBMDA0321ENSkillsNetwork21426264-2021-01-01&cm_mmc=Email_Newsletter-_-Developer_Ed%2BTech-_-WW_WW-_-SkillsNetwork-Courses-IBM-DA0321EN-SkillsNetwork-21426264&cm_mmca1=000026UJ&cm_mmca2=10006555&cm_mmca3=M12345678&cvosrc=email.Newsletter.M12345678&cvo_campaign=000026UJ)\n"
   ]
  },
  {
   "cell_type": "code",
   "execution_count": 1,
   "metadata": {},
   "outputs": [],
   "source": [
    "import requests # you need this module to make an API call\n",
    "import pandas as pd"
   ]
  },
  {
   "cell_type": "code",
   "execution_count": 2,
   "metadata": {},
   "outputs": [],
   "source": [
    "api_url = \"http://api.open-notify.org/astros.json\" # this url gives use the astronaut data"
   ]
  },
  {
   "cell_type": "code",
   "execution_count": 3,
   "metadata": {},
   "outputs": [],
   "source": [
    "response = requests.get(api_url) # Call the API using the get method and store the\n",
    "                                # output of the API call in a variable called response."
   ]
  },
  {
   "cell_type": "code",
   "execution_count": 4,
   "metadata": {},
   "outputs": [],
   "source": [
    "if response.ok:             # if all is well() no errors, no network timeouts)\n",
    "    data = response.json()  # store the result in json format in a variable called data\n",
    "                            # the variable data is of type dictionary."
   ]
  },
  {
   "cell_type": "code",
   "execution_count": 5,
   "metadata": {},
   "outputs": [
    {
     "name": "stdout",
     "output_type": "stream",
     "text": [
      "{'message': 'success', 'people': [{'name': 'Jasmin Moghbeli', 'craft': 'ISS'}, {'name': 'Andreas Mogensen', 'craft': 'ISS'}, {'name': 'Satoshi Furukawa', 'craft': 'ISS'}, {'name': 'Konstantin Borisov', 'craft': 'ISS'}, {'name': 'Oleg Kononenko', 'craft': 'ISS'}, {'name': 'Nikolai Chub', 'craft': 'ISS'}, {'name': \"Loral O'Hara\", 'craft': 'ISS'}], 'number': 7}\n"
     ]
    }
   ],
   "source": [
    "print(data)   # print the data just to check the output or for debugging"
   ]
  },
  {
   "cell_type": "markdown",
   "metadata": {},
   "source": [
    "Print the number of astronauts currently on ISS.\n"
   ]
  },
  {
   "cell_type": "code",
   "execution_count": 6,
   "metadata": {},
   "outputs": [
    {
     "name": "stdout",
     "output_type": "stream",
     "text": [
      "7\n"
     ]
    }
   ],
   "source": [
    "print(data.get('number'))"
   ]
  },
  {
   "cell_type": "markdown",
   "metadata": {},
   "source": [
    "Print the names of the astronauts currently on ISS.\n"
   ]
  },
  {
   "cell_type": "code",
   "execution_count": 7,
   "metadata": {},
   "outputs": [
    {
     "name": "stdout",
     "output_type": "stream",
     "text": [
      "There are 7 astronauts on ISS\n",
      "And their names are :\n",
      "Jasmin Moghbeli\n",
      "Andreas Mogensen\n",
      "Satoshi Furukawa\n",
      "Konstantin Borisov\n",
      "Oleg Kononenko\n",
      "Nikolai Chub\n",
      "Loral O'Hara\n"
     ]
    }
   ],
   "source": [
    "astronauts = data.get('people')\n",
    "print(\"There are {} astronauts on ISS\".format(len(astronauts)))\n",
    "print(\"And their names are :\")\n",
    "for astronaut in astronauts:\n",
    "    print(astronaut.get('name'))"
   ]
  },
  {
   "cell_type": "markdown",
   "metadata": {},
   "source": [
    "Hope the warmup was helpful. Good luck with your next lab!"
   ]
  },
  {
   "cell_type": "code",
   "execution_count": 8,
   "metadata": {},
   "outputs": [],
   "source": [
    "#import requests"
   ]
  },
  {
   "cell_type": "code",
   "execution_count": 9,
   "metadata": {},
   "outputs": [],
   "source": [
    "# request to the specified URL the data and save it on a file named 'jobs.json':\n",
    "\n",
    "#url = \"https://cf-courses-data.s3.us.cloud-object-storage.appdomain.cloud/IBM-DA0321EN-SkillsNetwork/labs/module%201/Accessing%20Data%20Using%20APIs/jobs.json\"\n",
    "#response = requests.get(url)\n",
    "\n",
    "#with open('jobs.json','wb') as f:\n",
    "    #f.write(response.content)"
   ]
  },
  {
   "cell_type": "markdown",
   "metadata": {},
   "source": [
    "## Lab: Collect Jobs Data using Jobs API\n"
   ]
  },
  {
   "cell_type": "markdown",
   "metadata": {},
   "source": [
    "### Objective: Determine the number of jobs currently open for various technologies  and for various locations\n"
   ]
  },
  {
   "cell_type": "markdown",
   "metadata": {},
   "source": [
    "Collect the number of job postings for the following locations using the API:\n",
    "\n",
    "* Los Angeles\n",
    "* New York\n",
    "* San Francisco\n",
    "* Washington DC\n",
    "* Seattle\n",
    "* Austin\n",
    "* Detroit\n"
   ]
  },
  {
   "cell_type": "code",
   "execution_count": 10,
   "metadata": {},
   "outputs": [],
   "source": [
    "#Import required libraries\n",
    "import pandas as pd\n",
    "import json"
   ]
  },
  {
   "cell_type": "markdown",
   "metadata": {},
   "source": [
    "#### Write a function to get the number of jobs for the Python technology.<br>\n",
    "> Note: While using the lab you need to pass the **payload** information for the **params** attribute in the form of **key** **value** pairs.\n",
    "  Refer the ungraded **rest api lab** in the course **Python for Data Science, AI & Development**  <a href=\"https://www.coursera.org/learn/python-for-applied-data-science-ai/ungradedLti/P6sW8/hands-on-lab-access-rest-apis-request-http?utm_medium=Exinfluencer&utm_source=Exinfluencer&utm_content=000026UJ&utm_term=10006555&utm_id=NA-SkillsNetwork-Channel-SkillsNetworkCoursesIBMDA0321ENSkillsNetwork928-2022-01-01\">link</a>\n",
    "  \n",
    " ##### The keys in the json are \n",
    " * Job Title\n",
    " \n",
    " * Job Experience Required\n",
    " \n",
    " * Key Skills\n",
    " \n",
    " * Role Category\n",
    " \n",
    " * Location\n",
    " \n",
    " * Functional Area\n",
    " \n",
    " * Industry\n",
    " \n",
    " * Role \n",
    " \n",
    "You can also view  the json file contents  from the following <a href = \"https://cf-courses-data.s3.us.cloud-object-storage.appdomain.cloud/IBM-DA0321EN-SkillsNetwork/labs/module%201/Accessing%20Data%20Using%20APIs/jobs.json\">json</a> URL.\n"
   ]
  },
  {
   "cell_type": "code",
   "execution_count": 17,
   "metadata": {},
   "outputs": [
    {
     "name": "stdout",
     "output_type": "stream",
     "text": [
      "Number of Python jobs: 208\n"
     ]
    }
   ],
   "source": [
    "#api_url=\"http://127.0.0.1:5000/data\"\n",
    "\n",
    "import requests\n",
    "\n",
    "def get_number_of_jobs_T(technology):\n",
    "    api_url = \"http://127.0.0.1:5000/data/all\"  # Use the /data/all route to get all job data\n",
    "\n",
    "    try:\n",
    "        # Make a GET request to the API endpoint\n",
    "        response = requests.get(api_url)\n",
    "\n",
    "        # Check if the request was successful (status code 200)\n",
    "        if response.status_code == 200:\n",
    "            try:\n",
    "                # Extract JSON data from the response\n",
    "                json_data = response.json()\n",
    "\n",
    "                # Check if json_data is None\n",
    "                if json_data is None:\n",
    "                    print(\"JSON data is None.\")\n",
    "                    return None\n",
    "\n",
    "            except ValueError as e:\n",
    "                print(f\"Error decoding JSON: {e}\")\n",
    "                return None\n",
    "\n",
    "            # Initialize a counter for jobs related to the specified technology\n",
    "            tech_jobs_count = 0\n",
    "\n",
    "            # Iterate through each job entry\n",
    "            for job in json_data:\n",
    "                # Check if the specified technology is listed as a required skill\n",
    "                if technology in job.get('Key Skills', []):\n",
    "                    tech_jobs_count += 1\n",
    "\n",
    "            return tech_jobs_count\n",
    "\n",
    "        else:\n",
    "            print(f\"Failed to retrieve data. Status code: {response.status_code}\")\n",
    "            return None\n",
    "\n",
    "    except requests.RequestException as e:\n",
    "        print(f\"Request failed: {e}\")\n",
    "        return None\n",
    "\n",
    "# Example usage:\n",
    "skill = \"Python\"\n",
    "count = get_number_of_jobs_T(technology)\n",
    "\n",
    "if count is not None:\n",
    "    print(f\"Number of {skill} jobs: {count}\")\n",
    "else:\n",
    "    print(f\"Failed to get the number of {skill} jobs.\")\n",
    "    \n",
    "    #your code goes here\n",
    "    #return technology,number_of_jobs"
   ]
  },
  {
   "cell_type": "markdown",
   "metadata": {},
   "source": [
    "Calling the function for Python and checking if it works.\n"
   ]
  },
  {
   "cell_type": "code",
   "execution_count": 18,
   "metadata": {},
   "outputs": [
    {
     "data": {
      "text/plain": [
       "1173"
      ]
     },
     "execution_count": 18,
     "metadata": {},
     "output_type": "execute_result"
    }
   ],
   "source": [
    "get_number_of_jobs_T(\"Python\")"
   ]
  },
  {
   "cell_type": "markdown",
   "metadata": {},
   "source": [
    "#### Write a function to find number of jobs in US for a location of your choice\n"
   ]
  },
  {
   "cell_type": "code",
   "execution_count": 19,
   "metadata": {},
   "outputs": [
    {
     "name": "stdout",
     "output_type": "stream",
     "text": [
      "Number of jobs for New York: 3226\n"
     ]
    }
   ],
   "source": [
    "def get_number_of_jobs_for_location(location):\n",
    "    api_url = \"http://127.0.0.1:5000/data/all\"  # Use the /data/all route to get all job data\n",
    "\n",
    "    try:\n",
    "        # Make a GET request to the API endpoint\n",
    "        response = requests.get(api_url)\n",
    "\n",
    "        # Check if the request was successful (status code 200)\n",
    "        if response.status_code == 200:\n",
    "            try:\n",
    "                # Extract JSON data from the response\n",
    "                json_data = response.json()\n",
    "\n",
    "                # Check if json_data is None\n",
    "                if json_data is None:\n",
    "                    print(\"JSON data is None.\")\n",
    "                    return None\n",
    "\n",
    "            except ValueError as e:\n",
    "                print(f\"Error decoding JSON: {e}\")\n",
    "                return None\n",
    "\n",
    "            # Initialize a counter for jobs in the specified location\n",
    "            jobs_count = 0\n",
    "\n",
    "            # Iterate through each job entry\n",
    "            for job in json_data:\n",
    "                # Check if the job is located in the specified location\n",
    "                if location.lower() in job.get('Location', '').lower():\n",
    "                    jobs_count += 1\n",
    "\n",
    "            return jobs_count\n",
    "\n",
    "        else:\n",
    "            print(f\"Failed to retrieve data. Status code: {response.status_code}\")\n",
    "            return None\n",
    "\n",
    "    except requests.RequestException as e:\n",
    "        print(f\"Request failed: {e}\")\n",
    "        return None\n",
    "\n",
    "# Example usage:\n",
    "location = \"New York\"  # You can change this to your desired location\n",
    "count = get_number_of_jobs_for_location(location)\n",
    "\n",
    "if count is not None:\n",
    "    print(f\"Number of jobs for {location}: {count}\")\n",
    "else:\n",
    "    print(f\"Failed to get the number of jobs for {location}.\")"
   ]
  },
  {
   "cell_type": "markdown",
   "metadata": {},
   "source": [
    "Call the function for Los Angeles and check if it is working.\n",
    "\n",
    "\n"
   ]
  },
  {
   "cell_type": "code",
   "execution_count": 20,
   "metadata": {},
   "outputs": [
    {
     "data": {
      "text/plain": [
       "640"
      ]
     },
     "execution_count": 20,
     "metadata": {},
     "output_type": "execute_result"
    }
   ],
   "source": [
    "#your code goes here\n",
    "\n",
    "get_number_of_jobs_for_location(\"Los Angeles\")"
   ]
  },
  {
   "cell_type": "markdown",
   "metadata": {},
   "source": [
    "### Store the results in an excel file\n"
   ]
  },
  {
   "cell_type": "markdown",
   "metadata": {},
   "source": [
    "Call the API for all the given technologies above and write the results in an excel spreadsheet.\n"
   ]
  },
  {
   "cell_type": "markdown",
   "metadata": {},
   "source": [
    "If you do not know how create excel file using python, double click here for **hints**.\n",
    "\n",
    "<!--\n",
    "\n",
    "from openpyxl import Workbook        # import Workbook class from module openpyxl\n",
    "wb=Workbook()                        # create a workbook object\n",
    "ws=wb.active                         # use the active worksheet\n",
    "ws.append(['Country','Continent'])   # add a row with two columns 'Country' and 'Continent'\n",
    "ws.append(['Eygpt','Africa'])        # add a row with two columns 'Egypt' and 'Africa'\n",
    "ws.append(['India','Asia'])          # add another row\n",
    "ws.append(['France','Europe'])       # add another row\n",
    "wb.save(\"countries.xlsx\")            # save the workbook into a file called countries.xlsx\n",
    "\n",
    "\n",
    "-->\n"
   ]
  },
  {
   "cell_type": "markdown",
   "metadata": {},
   "source": [
    "Create a python list of all locations for which you need to find the number of jobs postings.\n"
   ]
  },
  {
   "cell_type": "code",
   "execution_count": 23,
   "metadata": {},
   "outputs": [
    {
     "name": "stdout",
     "output_type": "stream",
     "text": [
      "Excel spreadsheet created successfully.\n"
     ]
    }
   ],
   "source": [
    "#your code goes here\n",
    "\n",
    "# Function to call the API and retrieve job data for a given technology\n",
    "def get_job_data_for_technology(technology):\n",
    "    api_url = \"http://127.0.0.1:5000/data/all\"  # Use the /data/all route to get all job data\n",
    "\n",
    "    try:\n",
    "        # Make a GET request to the API endpoint\n",
    "        response = requests.get(api_url)\n",
    "\n",
    "        # Check if the request was successful (status code 200)\n",
    "        if response.status_code == 200:\n",
    "            try:\n",
    "                # Extract JSON data from the response\n",
    "                json_data = response.json()\n",
    "\n",
    "                # Check if json_data is None\n",
    "                if json_data is None:\n",
    "                    print(\"JSON data is None.\")\n",
    "                    return None\n",
    "\n",
    "            except ValueError as e:\n",
    "                print(f\"Error decoding JSON: {e}\")\n",
    "                return None\n",
    "\n",
    "            # Filter jobs for the specified technology\n",
    "            tech_jobs = [job for job in json_data if technology.lower() in job.get('Key Skills', '').lower()]\n",
    "\n",
    "            return tech_jobs\n",
    "\n",
    "        else:\n",
    "            print(f\"Failed to retrieve data. Status code: {response.status_code}\")\n",
    "            return None\n",
    "\n",
    "    except requests.RequestException as e:\n",
    "        print(f\"Request failed: {e}\")\n",
    "        return None\n",
    "\n",
    "# List of technologies for which to retrieve job data\n",
    "technologies = ['Python','Java','JavaScript','C++','C','C#','Scala','Oracle','SQL Server','MySQL Server','PostgreSQL','MongoDB']\n",
    "\n",
    "# Create an Excel writer\n",
    "excel_writer = pd.ExcelWriter('job_data.xlsx', engine='xlsxwriter')\n",
    "\n",
    "# Python list to store all locations\n",
    "all_locations = []\n",
    "\n",
    "# Iterate through each technology\n",
    "for tech in technologies:\n",
    "    # Call the API and retrieve job data for the technology\n",
    "    tech_jobs = get_job_data_for_technology(tech)\n",
    "\n",
    "    # Check if job data is available\n",
    "    if tech_jobs is not None:\n",
    "        # Create a DataFrame for the technology's job data\n",
    "        tech_df = pd.DataFrame(tech_jobs)\n",
    "\n",
    "        # Write the DataFrame to Excel\n",
    "        tech_df.to_excel(excel_writer, sheet_name=f'{tech}_jobs', index=False)\n",
    "\n",
    "        # Add unique locations to the list\n",
    "        all_locations.extend(set(job.get('Location', '') for job in tech_jobs))\n",
    "\n",
    "# Save and close the Excel writer\n",
    "excel_writer.save()\n",
    "\n",
    "print(\"Excel spreadsheet created successfully.\")"
   ]
  },
  {
   "cell_type": "code",
   "execution_count": 25,
   "metadata": {},
   "outputs": [
    {
     "name": "stdout",
     "output_type": "stream",
     "text": [
      "List of all locations for which to find job postings:\n",
      "['Austin', 'Baltimore', 'Boston', 'Dallas', 'Detroit', 'Houston', 'Los Angeles', 'New Orleons', 'New York', 'Philadelphia', 'San Francisco', 'Seattle', 'Washington DC']\n"
     ]
    }
   ],
   "source": [
    "# Create a python list of all locations for which you need to find the number of jobs postings:\n",
    "\n",
    "# Function to call the API and retrieve job data for a given technology\n",
    "def get_job_data_for_technology(technology):\n",
    "    api_url = \"http://127.0.0.1:5000/data/all\"  # Use the /data/all route to get all job data\n",
    "\n",
    "    try:\n",
    "        # Make a GET request to the API endpoint\n",
    "        response = requests.get(api_url)\n",
    "\n",
    "        # Check if the request was successful (status code 200)\n",
    "        if response.status_code == 200:\n",
    "            try:\n",
    "                # Extract JSON data from the response\n",
    "                json_data = response.json()\n",
    "\n",
    "                # Check if json_data is None\n",
    "                if json_data is None:\n",
    "                    print(\"JSON data is None.\")\n",
    "                    return None\n",
    "\n",
    "            except ValueError as e:\n",
    "                print(f\"Error decoding JSON: {e}\")\n",
    "                return None\n",
    "\n",
    "            # Filter jobs for the specified technology\n",
    "            tech_jobs = [job for job in json_data if technology.lower() in job.get('Key Skills', '').lower()]\n",
    "\n",
    "            return tech_jobs\n",
    "\n",
    "        else:\n",
    "            print(f\"Failed to retrieve data. Status code: {response.status_code}\")\n",
    "            return None\n",
    "\n",
    "    except requests.RequestException as e:\n",
    "        print(f\"Request failed: {e}\")\n",
    "        return None\n",
    "\n",
    "# List of technologies for which to retrieve job data\n",
    "technologies = ['Python', 'Java', 'JavaScript', 'C++']\n",
    "\n",
    "# Python list to store all unique locations\n",
    "all_locations = set()\n",
    "\n",
    "# Iterate through each technology\n",
    "for tech in technologies:\n",
    "    # Call the API and retrieve job data for the technology\n",
    "    tech_jobs = get_job_data_for_technology(tech)\n",
    "\n",
    "    # Check if job data is available\n",
    "    if tech_jobs is not None:\n",
    "        # Extract unique locations and add them to the set\n",
    "        locations = set(job.get('Location', '') for job in tech_jobs)\n",
    "        all_locations.update(locations)\n",
    "\n",
    "# Convert the set to a sorted list\n",
    "all_locations_list = sorted(list(all_locations))\n",
    "\n",
    "# Display the Python list of all locations\n",
    "print(\"List of all locations for which to find job postings:\")\n",
    "print(all_locations_list)"
   ]
  },
  {
   "cell_type": "markdown",
   "metadata": {},
   "source": [
    "Import libraries required to create excel spreadsheet\n"
   ]
  },
  {
   "cell_type": "code",
   "execution_count": 26,
   "metadata": {},
   "outputs": [
    {
     "name": "stdout",
     "output_type": "stream",
     "text": [
      "Requirement already satisfied: pandas in c:\\users\\henry\\anaconda3\\anaconda3.1\\lib\\site-packages (1.4.2)\n",
      "Requirement already satisfied: xlsxwriter in c:\\users\\henry\\anaconda3\\anaconda3.1\\lib\\site-packages (3.0.3)\n",
      "Requirement already satisfied: python-dateutil>=2.8.1 in c:\\users\\henry\\anaconda3\\anaconda3.1\\lib\\site-packages (from pandas) (2.8.2)\n",
      "Requirement already satisfied: numpy>=1.18.5 in c:\\users\\henry\\anaconda3\\anaconda3.1\\lib\\site-packages (from pandas) (1.21.5)\n",
      "Requirement already satisfied: pytz>=2020.1 in c:\\users\\henry\\anaconda3\\anaconda3.1\\lib\\site-packages (from pandas) (2021.3)\n",
      "Requirement already satisfied: six>=1.5 in c:\\users\\henry\\anaconda3\\anaconda3.1\\lib\\site-packages (from python-dateutil>=2.8.1->pandas) (1.16.0)\n"
     ]
    }
   ],
   "source": [
    "# your code goes here\n",
    "\n",
    "import pandas as pd\n",
    "!pip install pandas xlsxwriter"
   ]
  },
  {
   "cell_type": "markdown",
   "metadata": {},
   "source": [
    "Create a workbook and select the active worksheet\n"
   ]
  },
  {
   "cell_type": "code",
   "execution_count": null,
   "metadata": {},
   "outputs": [],
   "source": [
    "# your code goes here"
   ]
  },
  {
   "cell_type": "markdown",
   "metadata": {},
   "source": [
    "Find the number of jobs postings for each of the location in the above list.\n",
    "Write the Location name and the number of jobs postings into the excel spreadsheet.\n"
   ]
  },
  {
   "cell_type": "code",
   "execution_count": 27,
   "metadata": {},
   "outputs": [
    {
     "name": "stdout",
     "output_type": "stream",
     "text": [
      "Excel spreadsheet created successfully.\n"
     ]
    }
   ],
   "source": [
    "#your code goes here\n",
    "\n",
    "# Function to call the API and retrieve job data for a given technology\n",
    "def get_job_data_for_technology(technology):\n",
    "    api_url = \"http://127.0.0.1:5000/data/all\"  # Use the /data/all route to get all job data\n",
    "\n",
    "    try:\n",
    "        # Make a GET request to the API endpoint\n",
    "        response = requests.get(api_url)\n",
    "\n",
    "        # Check if the request was successful (status code 200)\n",
    "        if response.status_code == 200:\n",
    "            try:\n",
    "                # Extract JSON data from the response\n",
    "                json_data = response.json()\n",
    "\n",
    "                # Check if json_data is None\n",
    "                if json_data is None:\n",
    "                    print(\"JSON data is None.\")\n",
    "                    return None\n",
    "\n",
    "            except ValueError as e:\n",
    "                print(f\"Error decoding JSON: {e}\")\n",
    "                return None\n",
    "\n",
    "            # Filter jobs for the specified technology\n",
    "            tech_jobs = [job for job in json_data if technology.lower() in job.get('Key Skills', '').lower()]\n",
    "\n",
    "            return tech_jobs\n",
    "\n",
    "        else:\n",
    "            print(f\"Failed to retrieve data. Status code: {response.status_code}\")\n",
    "            return None\n",
    "\n",
    "    except requests.RequestException as e:\n",
    "        print(f\"Request failed: {e}\")\n",
    "        return None\n",
    "\n",
    "# List of technologies for which to retrieve job data\n",
    "technologies = ['Python','Java','JavaScript','C++','C','C#','Scala','Oracle','SQL Server','MySQL Server','PostgreSQL','MongoDB']\n",
    "\n",
    "# Python list to store all unique locations\n",
    "all_locations = set()\n",
    "\n",
    "# Dictionary to store the count of job postings for each location\n",
    "location_counts = {}\n",
    "\n",
    "# Iterate through each technology\n",
    "for tech in technologies:\n",
    "    # Call the API and retrieve job data for the technology\n",
    "    tech_jobs = get_job_data_for_technology(tech)\n",
    "\n",
    "    # Check if job data is available\n",
    "    if tech_jobs is not None:\n",
    "        # Extract unique locations and update the set\n",
    "        locations = set(job.get('Location', '') for job in tech_jobs)\n",
    "        all_locations.update(locations)\n",
    "\n",
    "        # Count the number of job postings for each location\n",
    "        for location in locations:\n",
    "            location_counts[location] = location_counts.get(location, 0) + 1\n",
    "\n",
    "# Convert the set to a sorted list\n",
    "all_locations_list = sorted(list(all_locations))\n",
    "\n",
    "# Create a DataFrame from the location counts\n",
    "location_counts_df = pd.DataFrame(list(location_counts.items()), columns=['Location', 'Number of Job Postings'])\n",
    "\n",
    "# Create an Excel writer\n",
    "excel_writer = pd.ExcelWriter('job_postings.xlsx', engine='openpyxl')\n",
    "\n",
    "# Write the location counts DataFrame to Excel\n",
    "location_counts_df.to_excel(excel_writer, sheet_name='JobPostingsByLocation', index=False)\n",
    "\n",
    "# Save and close the Excel writer\n",
    "excel_writer.save()\n",
    "\n",
    "print(\"Excel spreadsheet created successfully.\")"
   ]
  },
  {
   "cell_type": "markdown",
   "metadata": {},
   "source": [
    "Save into an excel spreadsheet named 'job-postings.xlsx'.\n"
   ]
  },
  {
   "cell_type": "code",
   "execution_count": null,
   "metadata": {},
   "outputs": [],
   "source": [
    "#your code goes here"
   ]
  },
  {
   "cell_type": "markdown",
   "metadata": {},
   "source": [
    "#### In the similar way, you can try for below given technologies and results  can be stored in an excel sheet.\n"
   ]
  },
  {
   "cell_type": "markdown",
   "metadata": {},
   "source": [
    "Collect the number of job postings for the following languages using the API:\n",
    "\n",
    "*   C\n",
    "*   C#\n",
    "*   C++\n",
    "*   Java\n",
    "*   JavaScript\n",
    "*   Python\n",
    "*   Scala\n",
    "*   Oracle\n",
    "*   SQL Server\n",
    "*   MySQL Server\n",
    "*   PostgreSQL\n",
    "*   MongoDB\n"
   ]
  },
  {
   "cell_type": "code",
   "execution_count": 28,
   "metadata": {},
   "outputs": [
    {
     "name": "stdout",
     "output_type": "stream",
     "text": [
      "Excel spreadsheet created successfully.\n"
     ]
    }
   ],
   "source": [
    "# your code goes here\n",
    "\n",
    "# Function to call the API and retrieve job data for a given technology\n",
    "def get_job_data_for_technology(technology):\n",
    "    api_url = \"http://127.0.0.1:5000/data/all\"  # Use the /data/all route to get all job data\n",
    "\n",
    "    try:\n",
    "        # Make a GET request to the API endpoint\n",
    "        response = requests.get(api_url)\n",
    "\n",
    "        # Check if the request was successful (status code 200)\n",
    "        if response.status_code == 200:\n",
    "            try:\n",
    "                # Extract JSON data from the response\n",
    "                json_data = response.json()\n",
    "\n",
    "                # Check if json_data is None\n",
    "                if json_data is None:\n",
    "                    print(\"JSON data is None.\")\n",
    "                    return None\n",
    "\n",
    "            except ValueError as e:\n",
    "                print(f\"Error decoding JSON: {e}\")\n",
    "                return None\n",
    "\n",
    "            # Filter jobs for the specified technology\n",
    "            tech_jobs = [job for job in json_data if technology.lower() in job.get('Key Skills', '').lower()]\n",
    "\n",
    "            return tech_jobs\n",
    "\n",
    "        else:\n",
    "            print(f\"Failed to retrieve data. Status code: {response.status_code}\")\n",
    "            return None\n",
    "\n",
    "    except requests.RequestException as e:\n",
    "        print(f\"Request failed: {e}\")\n",
    "        return None\n",
    "\n",
    "# List of languages for which to retrieve job data\n",
    "languages = ['Python','Java','JavaScript','C++','C','C#','Scala','Oracle','SQL Server','MySQL Server','PostgreSQL','MongoDB']\n",
    "\n",
    "# Dictionary to store the count of job postings for each language\n",
    "language_counts = {}\n",
    "\n",
    "# Iterate through each language\n",
    "for lang in languages:\n",
    "    # Call the API and retrieve job data for the language\n",
    "    lang_jobs = get_job_data_for_technology(lang)\n",
    "\n",
    "    # Check if job data is available\n",
    "    if lang_jobs is not None:\n",
    "        # Count the number of job postings for the language\n",
    "        language_counts[lang] = len(lang_jobs)\n",
    "\n",
    "# Create a DataFrame from the language counts\n",
    "language_counts_df = pd.DataFrame(list(language_counts.items()), columns=['Language', 'Number of Job Postings'])\n",
    "\n",
    "# Create an Excel writer\n",
    "excel_writer = pd.ExcelWriter('job_postings_by_language.xlsx', engine='openpyxl')\n",
    "\n",
    "# Write the language counts DataFrame to Excel\n",
    "language_counts_df.to_excel(excel_writer, sheet_name='JobPostingsByLanguage', index=False)\n",
    "\n",
    "# Save and close the Excel writer\n",
    "excel_writer.save()\n",
    "\n",
    "print(\"Excel spreadsheet created successfully.\")\n"
   ]
  },
  {
   "cell_type": "markdown",
   "metadata": {},
   "source": [
    "## Author\n"
   ]
  },
  {
   "cell_type": "markdown",
   "metadata": {},
   "source": [
    "Ayushi Jain\n"
   ]
  },
  {
   "cell_type": "markdown",
   "metadata": {},
   "source": [
    "### Other Contributors\n"
   ]
  },
  {
   "cell_type": "markdown",
   "metadata": {},
   "source": [
    "Rav Ahuja\n",
    "\n",
    "Lakshmi Holla\n",
    "\n",
    "Malika\n"
   ]
  },
  {
   "cell_type": "markdown",
   "metadata": {},
   "source": [
    "## Change Log\n"
   ]
  },
  {
   "cell_type": "markdown",
   "metadata": {},
   "source": [
    "| Date (YYYY-MM-DD) | Version | Changed By        | Change Description                 |\n",
    "| ----------------- | ------- | ----------------- | ---------------------------------- | \n",
    "| 2022-01-19        | 0.3     | Lakshmi Holla        | Added changes in the markdown      |\n",
    "| 2021-06-25        | 0.2     | Malika            | Updated GitHub job json link       |\n",
    "| 2020-10-17        | 0.1     | Ramesh Sannareddy | Created initial version of the lab |\n"
   ]
  },
  {
   "cell_type": "markdown",
   "metadata": {},
   "source": [
    "Copyright © 2022 IBM Corporation. All rights reserved. \n"
   ]
  }
 ],
 "metadata": {
  "kernelspec": {
   "display_name": "Python 3 (ipykernel)",
   "language": "python",
   "name": "python3"
  },
  "language_info": {
   "codemirror_mode": {
    "name": "ipython",
    "version": 3
   },
   "file_extension": ".py",
   "mimetype": "text/x-python",
   "name": "python",
   "nbconvert_exporter": "python",
   "pygments_lexer": "ipython3",
   "version": "3.9.12"
  }
 },
 "nbformat": 4,
 "nbformat_minor": 4
}
